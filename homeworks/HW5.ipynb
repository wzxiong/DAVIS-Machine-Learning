{
 "cells": [
  {
   "cell_type": "markdown",
   "metadata": {},
   "source": [
    "# STA 208: Homework 5"
   ]
  },
  {
   "cell_type": "markdown",
   "metadata": {},
   "source": [
    "## Instructions\n",
    "\n",
    "We use a script that extracts your answers by looking for cells in between the cells containing the exercise statements (beginning with __Exercise X.X__).  So you \n",
    "\n",
    "- MUST add cells in between the exercise statements and add answers within them and\n",
    "- MUST NOT modify the existing cells, particularly not the problem statement\n",
    "\n",
    "To make markdown, please switch the cell type to markdown (from code) - you can hit 'm' when you are in command mode - and use the markdown language.  For a brief tutorial see: https://daringfireball.net/projects/markdown/syntax\n",
    "\n",
    "In the conceptual exercises you should provide an explanation, with math when necessary, for any answers.  When answering with math you should use basic LaTeX, as in \n",
    "$$E(Y|X=x) = \\int_{\\mathcal{Y}} f_{Y|X}(y|x) dy = \\int_{\\mathcal{Y}} \\frac{f_{Y,X}(y,x)}{f_{X}(x)} dy$$\n",
    "for displayed equations, and $R_{i,j} = 2^{-|i-j|}$ for inline equations.  (To see the contents of this cell in markdown, double click on it or hit Enter in escape mode.)  To see a list of latex math symbols see here: http://web.ift.uib.no/Teori/KURS/WRK/TeX/symALL.html\n",
    "\n",
    "When writing pseudocode, you should use enumerated lists, such as \n",
    "\n",
    "__Algorithm: Ordinary Least Squares Fit__\n",
    "(Input: X, y; \n",
    "Output: $\\beta$)\n",
    "1. Initialize the $p \\times p$ Gram matrix, $G \\gets 0$, and the vector $b \\gets 0$.\n",
    "2. For each sample, $x_i$:\n",
    " 1. $G \\gets G + x_i x_i^\\top$.\n",
    " 2. $b \\gets b + y_i x_i$\n",
    "3. Solve the linear system $G \\beta = b$ and return $\\beta$\n"
   ]
  },
  {
   "cell_type": "markdown",
   "metadata": {},
   "source": [
    "__Exercise 1__ Recall the adaboost algorithm for $y_i \\in \\{-1,1\\}$...\n",
    "\n",
    "1. Initialize the observed weights $w^{(1)}_i \\gets 1/n$, $t \\gets 1$.\n",
    "1. For $t = 1,\\ldots,T$\n",
    " 1. Get a classifier $f_t(x) \\in \\{-1,1\\}$\n",
    " 1. Get the weighted error: $\\epsilon_t = \\sum_{i=1}^n w_i^{(t)} 1\\{ f_t(x_i) \\ne y_i \\}$\n",
    " 1. Let $\\alpha_t \\gets \\log (\\epsilon_t / (1 - \\epsilon_t))$\n",
    " 1. $w^{(t+1)}_i \\gets w^{(t)}_i \\exp ( -y_i f_t(x_i) \\alpha_t )$ for all i.\n",
    " 1. Let $Z_t \\gets \\sum_{i=1}^n w^{(t)}_i$, and $w^{(t+1)}_i \\gets w_i^{(t+1)} / Z_t$ for all i.\n",
    "1. Output the classifier: $$\\hat y(x) = {\\rm sign}\\left( \\sum_{t=1}^T \\alpha_t f_t(x) \\right)$$\n",
    "\n",
    "We will demonstrate that the training error is bounded if each of these classifiers is a weak learner.  To this end, let $\\epsilon_t = \\frac 12 - \\gamma_t$.  \n",
    "If we can show that the training error is bounded by\n",
    "$$ \\prod_{t=1}^T \\sqrt{2 \\epsilon_t (1- \\epsilon_t)} $$ then\n",
    "we will see that the training error is bounded by\n",
    "$$ \\exp\\left( - 2 \\sum_{t=1}^T \\gamma_t^2 \\right) $$\n",
    "because $\\sqrt{2 \\epsilon_t(1 - \\epsilon_t)} \\le \\exp(2 \\gamma_t^2)$."
   ]
  },
  {
   "cell_type": "markdown",
   "metadata": {},
   "source": [
    "__Exercise 1.1__ Demonstrate that \n",
    "$$ w^{(T+1)}_i = \\frac 1n \\frac{\\exp(- y_i f(x_i))}{\\prod_{t=1}^T Z_t}$$\n",
    "where $f(x) = \\sum_{t=1}^T \\alpha_t f_t(x)$."
   ]
  },
  {
   "cell_type": "markdown",
   "metadata": {},
   "source": [
    "According to D,E we know $w^{(t+1)}_i \\gets w^{(t)}_i \\exp ( -y_i f_t(x_i) \\alpha_t )$ for all i. and $Z_t \\gets \\sum_{i=1}^n w^{(t)}_i$, and $w^{(t+1)}_i \\gets w_i^{(t+1)} / Z_t$ for all i. Then we know $$w^{(T+1)}_i=\\frac{w^{(T+1)}_i}{Z_T}=\\frac{w^{(T)}_i \\exp ( -y_i f_T(x_i) \\alpha_T )}{Z_T}$$ we can do the same transform to $w_i^t$ we can got $$\\frac{w^{(T)}_i \\exp ( -y_i f_T(x_i) \\alpha_T )}{Z_T}=\\frac{w^{(T-1)}_i\\exp ( -y_i f_T(x_i)\\alpha_T \\exp ( -y_i f_{T-1}(x_i) \\alpha_{T-1} )}{Z_TZ_{T-1}}$$ we can do this transform continualy and we know $w^{(1)}_i \\gets 1/n$, $t \\gets 1$ so when t reach 1 we got$$ w^{(T+1)}_i = \\frac 1n \\frac{\\exp(- y_i \\sum_{t=1}^{T}f_t(x_i)a_{t})}{\\prod_{t=1}^T Z_t}$$ Since we know $f(x) = \\sum_{t=1}^T \\alpha_t f_t(x)$. So we can got the final expression$$ w^{(T+1)}_i = \\frac 1n \\frac{\\exp(- y_i f(x_i))}{\\prod_{t=1}^T Z_t}$$"
   ]
  },
  {
   "cell_type": "markdown",
   "metadata": {},
   "source": [
    "__Exercise 1.2__ Using this, show that the training error, $\\frac 1n \\sum_{i=1}^n 1\\{ y_i \\ne \\hat y(x_i)\\}$ is bounded by $\\prod_{t=1}^T Z_t$.  Hint: use the fact that $1\\{ z < 0\\} \\le \\exp(-z)$."
   ]
  },
  {
   "cell_type": "markdown",
   "metadata": {},
   "source": [
    "$$\\begin{align*}\n",
    "\\frac 1n \\sum_{i=1}^n 1\\{ y_i \\ne \\hat y(x_i)\\} & =\\frac 1n \\sum_{i=1}^n 1\\{ y_i(\\sum_{t=1}^T \\alpha_t f_t(x_i))<0\\}\\\\\n",
    "& \\leq \\frac 1n \\sum_{i=1}^n \\exp(-\\sum_{t=1}^Ty_i\\alpha_t f_t(x_i)) \\qquad \\text{according to hint}\\\\\n",
    "& =\\frac 1n \\sum_{i=1}^n \\prod_{t=1}^T\\exp(-y_i\\alpha_t f_t(x_i))\\\\\n",
    "& =\\frac 1n \\sum_{i=1}^n \\frac{w_i^{2}Z_1}{w_i^{1}}\\frac{w_i^{3}Z_1}{w_i^{2}}...\\frac{w_i^{T+1}Z_1}{w_i^{T}}\\qquad \\text{according to D,E}\\\\\n",
    "& =\\frac 1n \\sum_{i=1}^n \\prod_{t=1}^T Z_t \\frac{w_i^{T+1}}{w_i^{1}} \\qquad\\text{since }w^{(1)}_i \\gets 1/n, \\sum_{i=1}^nw_{(i)}^{T+1}=1\\\\\n",
    "& =\\prod_{t=1}^T Z_t\n",
    "\\end{align*}$$"
   ]
  },
  {
   "cell_type": "markdown",
   "metadata": {},
   "source": [
    "__Exercise 1.3__ Show that \n",
    "$$ Z_t = \\sqrt{2 \\epsilon_t (1 - \\epsilon_t)}.$$"
   ]
  },
  {
   "cell_type": "markdown",
   "metadata": {},
   "source": [
    "$$\n",
    "\\begin{align*}\n",
    "Z_t & = \\sum_{i=1}^nw^{(t+1)}_i\\\\\n",
    "& = \\sum_{i=1}^nw^{(t)}_i\\exp(-y_if(x_i)a_{t})\\qquad \\text{according to D}\\\\\n",
    "& =\\sum_{i=1}^nw^{(t)}_i\\exp(\\log(\\frac{1-\\epsilon}{\\epsilon})^{-\\frac{1}{2}y_if(x_i)} )\\qquad \\text{according to C}\\\\\n",
    "& =\\sum_{i=1}^n w_i^{(t)} 1\\{ f_t(x_i) \\ne y_i \\}\\exp(\\log(\\frac{1-\\epsilon}{\\epsilon})^{-\\frac{1}{2}y_if(x_i)} )+\\sum_{i=1}^n w_i^{(t)} 1\\{ f_t(x_i) = y_i \\}\\exp(\\log(\\frac{1-\\epsilon}{\\epsilon})^{-\\frac{1}{2}y_if(x_i)} )\\\\\n",
    "& =\\epsilon(\\frac{1-\\epsilon}{\\epsilon})^{\\frac{1}{2}}+(1-\\epsilon)(\\frac{1-\\epsilon}{\\epsilon})^{-\\frac{1}{2}}\\\\\n",
    "& =2\\sqrt{ \\epsilon_t (1 - \\epsilon_t)}\\qquad\\text{if } f_t(x_i) \\ne y_i, y_if(x_i)=-1\n",
    "\\end{align*}\n",
    "$$"
   ]
  },
  {
   "cell_type": "markdown",
   "metadata": {},
   "source": [
    "## Bank Dataset\n",
    "The following dataset can be found at <a href=\"https://archive.ics.uci.edu/ml/datasets/Bank+Marketing\">UCI ML repo</a>."
   ]
  },
  {
   "cell_type": "code",
   "execution_count": 1,
   "metadata": {
    "collapsed": false
   },
   "outputs": [],
   "source": [
    "import pandas as pd\n",
    "import numpy as np"
   ]
  },
  {
   "cell_type": "code",
   "execution_count": 2,
   "metadata": {
    "collapsed": true
   },
   "outputs": [],
   "source": [
    "bank = pd.read_csv('bank/bank-full.csv',sep=\";\")"
   ]
  },
  {
   "cell_type": "code",
   "execution_count": 3,
   "metadata": {
    "collapsed": false
   },
   "outputs": [
    {
     "data": {
      "text/html": [
       "<div>\n",
       "<table border=\"1\" class=\"dataframe\">\n",
       "  <thead>\n",
       "    <tr style=\"text-align: right;\">\n",
       "      <th></th>\n",
       "      <th>age</th>\n",
       "      <th>job</th>\n",
       "      <th>marital</th>\n",
       "      <th>education</th>\n",
       "      <th>default</th>\n",
       "      <th>balance</th>\n",
       "      <th>housing</th>\n",
       "      <th>loan</th>\n",
       "      <th>contact</th>\n",
       "      <th>day</th>\n",
       "      <th>month</th>\n",
       "      <th>duration</th>\n",
       "      <th>campaign</th>\n",
       "      <th>pdays</th>\n",
       "      <th>previous</th>\n",
       "      <th>poutcome</th>\n",
       "      <th>y</th>\n",
       "    </tr>\n",
       "  </thead>\n",
       "  <tbody>\n",
       "    <tr>\n",
       "      <th>0</th>\n",
       "      <td>58</td>\n",
       "      <td>management</td>\n",
       "      <td>married</td>\n",
       "      <td>tertiary</td>\n",
       "      <td>no</td>\n",
       "      <td>2143</td>\n",
       "      <td>yes</td>\n",
       "      <td>no</td>\n",
       "      <td>unknown</td>\n",
       "      <td>5</td>\n",
       "      <td>may</td>\n",
       "      <td>261</td>\n",
       "      <td>1</td>\n",
       "      <td>-1</td>\n",
       "      <td>0</td>\n",
       "      <td>unknown</td>\n",
       "      <td>no</td>\n",
       "    </tr>\n",
       "    <tr>\n",
       "      <th>1</th>\n",
       "      <td>44</td>\n",
       "      <td>technician</td>\n",
       "      <td>single</td>\n",
       "      <td>secondary</td>\n",
       "      <td>no</td>\n",
       "      <td>29</td>\n",
       "      <td>yes</td>\n",
       "      <td>no</td>\n",
       "      <td>unknown</td>\n",
       "      <td>5</td>\n",
       "      <td>may</td>\n",
       "      <td>151</td>\n",
       "      <td>1</td>\n",
       "      <td>-1</td>\n",
       "      <td>0</td>\n",
       "      <td>unknown</td>\n",
       "      <td>no</td>\n",
       "    </tr>\n",
       "    <tr>\n",
       "      <th>2</th>\n",
       "      <td>33</td>\n",
       "      <td>entrepreneur</td>\n",
       "      <td>married</td>\n",
       "      <td>secondary</td>\n",
       "      <td>no</td>\n",
       "      <td>2</td>\n",
       "      <td>yes</td>\n",
       "      <td>yes</td>\n",
       "      <td>unknown</td>\n",
       "      <td>5</td>\n",
       "      <td>may</td>\n",
       "      <td>76</td>\n",
       "      <td>1</td>\n",
       "      <td>-1</td>\n",
       "      <td>0</td>\n",
       "      <td>unknown</td>\n",
       "      <td>no</td>\n",
       "    </tr>\n",
       "    <tr>\n",
       "      <th>3</th>\n",
       "      <td>47</td>\n",
       "      <td>blue-collar</td>\n",
       "      <td>married</td>\n",
       "      <td>unknown</td>\n",
       "      <td>no</td>\n",
       "      <td>1506</td>\n",
       "      <td>yes</td>\n",
       "      <td>no</td>\n",
       "      <td>unknown</td>\n",
       "      <td>5</td>\n",
       "      <td>may</td>\n",
       "      <td>92</td>\n",
       "      <td>1</td>\n",
       "      <td>-1</td>\n",
       "      <td>0</td>\n",
       "      <td>unknown</td>\n",
       "      <td>no</td>\n",
       "    </tr>\n",
       "    <tr>\n",
       "      <th>4</th>\n",
       "      <td>33</td>\n",
       "      <td>unknown</td>\n",
       "      <td>single</td>\n",
       "      <td>unknown</td>\n",
       "      <td>no</td>\n",
       "      <td>1</td>\n",
       "      <td>no</td>\n",
       "      <td>no</td>\n",
       "      <td>unknown</td>\n",
       "      <td>5</td>\n",
       "      <td>may</td>\n",
       "      <td>198</td>\n",
       "      <td>1</td>\n",
       "      <td>-1</td>\n",
       "      <td>0</td>\n",
       "      <td>unknown</td>\n",
       "      <td>no</td>\n",
       "    </tr>\n",
       "  </tbody>\n",
       "</table>\n",
       "</div>"
      ],
      "text/plain": [
       "   age           job  marital  education default  balance housing loan  \\\n",
       "0   58    management  married   tertiary      no     2143     yes   no   \n",
       "1   44    technician   single  secondary      no       29     yes   no   \n",
       "2   33  entrepreneur  married  secondary      no        2     yes  yes   \n",
       "3   47   blue-collar  married    unknown      no     1506     yes   no   \n",
       "4   33       unknown   single    unknown      no        1      no   no   \n",
       "\n",
       "   contact  day month  duration  campaign  pdays  previous poutcome   y  \n",
       "0  unknown    5   may       261         1     -1         0  unknown  no  \n",
       "1  unknown    5   may       151         1     -1         0  unknown  no  \n",
       "2  unknown    5   may        76         1     -1         0  unknown  no  \n",
       "3  unknown    5   may        92         1     -1         0  unknown  no  \n",
       "4  unknown    5   may       198         1     -1         0  unknown  no  "
      ]
     },
     "execution_count": 3,
     "metadata": {},
     "output_type": "execute_result"
    }
   ],
   "source": [
    "bank.head()"
   ]
  },
  {
   "cell_type": "code",
   "execution_count": 3,
   "metadata": {
    "collapsed": false
   },
   "outputs": [],
   "source": [
    "X = bank.iloc[:,:-1]\n",
    "y = bank['y']\n",
    "y = (y == 'yes')*1\n",
    "X = np.array(X)"
   ]
  },
  {
   "cell_type": "code",
   "execution_count": 6,
   "metadata": {
    "collapsed": false
   },
   "outputs": [],
   "source": [
    "from sklearn.preprocessing import OneHotEncoder "
   ]
  },
  {
   "cell_type": "markdown",
   "metadata": {},
   "source": [
    "__Exercise 2.1__ (30 pts) Predict y from X using kernel SVMs, random forests, and adaboost (see the sklearn.ensembles package).  Tune the random forest using the out-of-bag error.  Tune everything else using cross-validation, and assess the models using a separate test set with ROC, PR, confusion matrices.  Write a paragraph about the relative performances of the algorithms and any observations that you've made."
   ]
  },
  {
   "cell_type": "markdown",
   "metadata": {},
   "source": [
    "I firstly Tune the parameter of random forest using out-of-bag error, then I use grid search method to tune parameter of SVM and Adaboost, the answers are listed in below table. After that I plot the PR, ROC curve, the answer show that the Random forest perform best, and adaboost perform a little bit better than linear SVM. When we look at confusion matrix, we can find out, although random forest perform best, the prediction on class 1 using adaboost is more accurate than random forest, the probable reason is that adaboost will give wrong classified data more weight, so it will predict lesser common class more accurately. What's more, there is one thing I find is that when we tune the min-sample-split parameter of random forest, if we increase the split over two, the performance will drop which is weird, since split only by two node quite likyly to overfit. For SVM, it will run very slow, no matter I use 'linear' or 'rbf' kernel, when compared with tree based methods."
   ]
  },
  {
   "cell_type": "markdown",
   "metadata": {},
   "source": [
    "\n",
    "\n",
    "random forest||SVM||Adaboost||\n",
    "---- | ---| ---| ---| ---| ---|\n",
    "_parameter_ | _tuned value_|_parameter_ | _tuned value_|_parameter_ | _tuned value_\n",
    "max_depth|11|kernel|linear|max_depth|2\n",
    "max_leaf_nodes|500|bandwidth|0.01|max_leaf_nodes|10\n",
    "min_samples_leaf|10|||min_samples_leaf|1\n",
    "min_samples_split|0.1|||min_samples_split|0.9\n",
    "min_weight_fraction_leaf|0.1|||n_estimaor|30\n",
    "learning_rate|0.1"
   ]
  },
  {
   "cell_type": "code",
   "execution_count": 4,
   "metadata": {
    "collapsed": false
   },
   "outputs": [],
   "source": [
    "bank = pd.get_dummies(bank,drop_first=True,sparse=True)\n",
    "X = bank.iloc[:,:-1]"
   ]
  },
  {
   "cell_type": "code",
   "execution_count": 36,
   "metadata": {
    "collapsed": false
   },
   "outputs": [],
   "source": [
    "from sklearn.ensemble import RandomForestClassifier\n",
    "from sklearn.ensemble import AdaBoostClassifier\n",
    "from sklearn.tree import DecisionTreeClassifier\n",
    "import itertools\n",
    "from sklearn.model_selection import GridSearchCV  \n",
    "from sklearn.svm import SVC\n",
    "import matplotlib.pyplot as plt\n",
    "from sklearn.model_selection import KFold, cross_val_score\n",
    "from sklearn.model_selection import train_test_split\n",
    "from sklearn.metrics import precision_recall_curve, roc_curve,confusion_matrix, classification_report,precision_score\n",
    "\n",
    "%matplotlib inline\n",
    "kfold = KFold(n_splits=5)"
   ]
  },
  {
   "cell_type": "markdown",
   "metadata": {},
   "source": [
    "### tune random forest\n",
    "#### Tune max_depth and max_leaf_nodes"
   ]
  },
  {
   "cell_type": "code",
   "execution_count": 49,
   "metadata": {
    "collapsed": false
   },
   "outputs": [
    {
     "name": "stdout",
     "output_type": "stream",
     "text": [
      "('max_depth:', 2, 'max_leaf_nodes:', 10, 'score', 0.88520492800424677)\n",
      "('max_depth:', 2, 'max_leaf_nodes:', 50, 'score', 0.8840105284112274)\n",
      "('max_depth:', 2, 'max_leaf_nodes:', 100, 'score', 0.88620026099842963)\n",
      "('max_depth:', 2, 'max_leaf_nodes:', 200, 'score', 0.88752737165734008)\n",
      "('max_depth:', 2, 'max_leaf_nodes:', 500, 'score', 0.88518280949326489)\n",
      "('max_depth:', 4, 'max_leaf_nodes:', 10, 'score', 0.88688593483886669)\n",
      "('max_depth:', 4, 'max_leaf_nodes:', 50, 'score', 0.89221649598549024)\n",
      "('max_depth:', 4, 'max_leaf_nodes:', 100, 'score', 0.89411868792992855)\n",
      "('max_depth:', 4, 'max_leaf_nodes:', 200, 'score', 0.89044701510694302)\n",
      "('max_depth:', 4, 'max_leaf_nodes:', 500, 'score', 0.89288005131494552)\n",
      "('max_depth:', 6, 'max_leaf_nodes:', 10, 'score', 0.8922607330074539)\n",
      "('max_depth:', 6, 'max_leaf_nodes:', 50, 'score', 0.89438411006171059)\n",
      "('max_depth:', 6, 'max_leaf_nodes:', 100, 'score', 0.89299064386985472)\n",
      "('max_depth:', 6, 'max_leaf_nodes:', 200, 'score', 0.89380902877618273)\n",
      "('max_depth:', 6, 'max_leaf_nodes:', 500, 'score', 0.89321182897967311)\n",
      "('max_depth:', 8, 'max_leaf_nodes:', 10, 'score', 0.88894295636017784)\n",
      "('max_depth:', 8, 'max_leaf_nodes:', 50, 'score', 0.89478224325938382)\n",
      "('max_depth:', 8, 'max_leaf_nodes:', 100, 'score', 0.89560062816571184)\n",
      "('max_depth:', 8, 'max_leaf_nodes:', 200, 'score', 0.8963968945610582)\n",
      "('max_depth:', 8, 'max_leaf_nodes:', 500, 'score', 0.89838756054942381)\n",
      "('best:', 'max_depth:', 8, 'max_leaf_nodes:', 500, 'score', 0.89838756054942381)\n"
     ]
    }
   ],
   "source": [
    "maxd, maxleaf, scores = [], [], []\n",
    "for i,j in itertools.product(range(2,10,2),[10,50,100,200,500]):\n",
    "    RFC=RandomForestClassifier(max_depth=i,max_leaf_nodes=j, min_samples_leaf=1,\n",
    "                           min_samples_split=2,min_weight_fraction_leaf=0.0,oob_score=True)\n",
    "    score = RFC.fit(X,y).oob_score_\n",
    "    maxd.append(i); maxleaf.append(j);scores.append(score)\n",
    "    print('max_depth:',i,'max_leaf_nodes:',j,'score',score)\n",
    "index=np.argmax(scores)\n",
    "print('best:','max_depth:',maxd[index],'max_leaf_nodes:',maxleaf[index],'score',scores[index])"
   ]
  },
  {
   "cell_type": "markdown",
   "metadata": {},
   "source": [
    "the answer show that for both value, the higher the node and depth, the better the performance, in order to find the optimal one, I will try to set higher value."
   ]
  },
  {
   "cell_type": "code",
   "execution_count": 54,
   "metadata": {
    "collapsed": false
   },
   "outputs": [
    {
     "name": "stdout",
     "output_type": "stream",
     "text": [
      "('max_depth:', 8, 'max_leaf_nodes:', 500, 'score', 0.89626418349516712)\n",
      "('max_depth:', 8, 'max_leaf_nodes:', 1000, 'score', 0.89706044989051337)\n",
      "('max_depth:', 8, 'max_leaf_nodes:', 2000, 'score', 0.89730375351131364)\n",
      "('max_depth:', 11, 'max_leaf_nodes:', 500, 'score', 0.89878569374709694)\n",
      "('max_depth:', 11, 'max_leaf_nodes:', 1000, 'score', 0.89644113158302186)\n",
      "('max_depth:', 11, 'max_leaf_nodes:', 2000, 'score', 0.89692773882462229)\n",
      "('max_depth:', 14, 'max_leaf_nodes:', 500, 'score', 0.89661807967087659)\n",
      "('max_depth:', 14, 'max_leaf_nodes:', 1000, 'score', 0.89540156156687534)\n",
      "('max_depth:', 14, 'max_leaf_nodes:', 2000, 'score', 0.8946937692154564)\n",
      "('max_depth:', 17, 'max_leaf_nodes:', 500, 'score', 0.8984096790604057)\n",
      "('max_depth:', 17, 'max_leaf_nodes:', 1000, 'score', 0.89688350180265863)\n",
      "('max_depth:', 17, 'max_leaf_nodes:', 2000, 'score', 0.89378691026520096)\n",
      "('best:', 'max_depth:', 11, 'max_leaf_nodes:', 500, 'score', 0.89878569374709694)\n"
     ]
    }
   ],
   "source": [
    "maxd, maxleaf, scores = [], [], []\n",
    "for i,j in itertools.product(range(8,20,3),[500,1000,2000]):\n",
    "    RFC=RandomForestClassifier(max_depth=i,max_leaf_nodes=j, min_samples_leaf=1,\n",
    "                           min_samples_split=2,min_weight_fraction_leaf=0.0,oob_score=True)\n",
    "    score = RFC.fit(X,y).oob_score_\n",
    "    maxd.append(i); maxleaf.append(j);scores.append(score)\n",
    "    print('max_depth:',i,'max_leaf_nodes:',j,'score',score)\n",
    "index=np.argmax(scores)\n",
    "print('best:','max_depth:',maxd[index],'max_leaf_nodes:',maxleaf[index],'score',scores[index])"
   ]
  },
  {
   "cell_type": "markdown",
   "metadata": {},
   "source": [
    "the answer show that the best max_depth is 11, and best max_leaf_nodes are 500."
   ]
  },
  {
   "cell_type": "markdown",
   "metadata": {},
   "source": [
    "#### Tune min_samples_leaf and min_samples_spl\n",
    "using the best parameter for best max_depth and best max_leaf_nodes, we can continually tune other parameters."
   ]
  },
  {
   "cell_type": "code",
   "execution_count": 57,
   "metadata": {
    "collapsed": false
   },
   "outputs": [
    {
     "name": "stdout",
     "output_type": "stream",
     "text": [
      "('min_samples_leaf:', 1, 'min_samples_spl:', 0.1, 'score', '0.883502')\n",
      "('min_samples_leaf:', 1, 'min_samples_spl:', 0.2, 'score', '0.884718')\n",
      "('min_samples_leaf:', 1, 'min_samples_spl:', 0.3, 'score', '0.883546')\n",
      "('min_samples_leaf:', 1, 'min_samples_spl:', 0.4, 'score', '0.883612')\n",
      "('min_samples_leaf:', 1, 'min_samples_spl:', 0.5, 'score', '0.883015')\n",
      "('min_samples_leaf:', 1, 'min_samples_spl:', 0.6, 'score', '0.883015')\n",
      "('min_samples_leaf:', 1, 'min_samples_spl:', 0.7, 'score', '0.883015')\n",
      "('min_samples_leaf:', 1, 'min_samples_spl:', 0.8, 'score', '0.883015')\n",
      "('min_samples_leaf:', 1, 'min_samples_spl:', 0.9, 'score', '0.883015')\n",
      "('min_samples_leaf:', 10, 'min_samples_spl:', 0.1, 'score', '0.890071')\n",
      "('min_samples_leaf:', 10, 'min_samples_spl:', 0.2, 'score', '0.886842')\n",
      "('min_samples_leaf:', 10, 'min_samples_spl:', 0.3, 'score', '0.883082')\n",
      "('min_samples_leaf:', 10, 'min_samples_spl:', 0.4, 'score', '0.887151')\n",
      "('min_samples_leaf:', 10, 'min_samples_spl:', 0.5, 'score', '0.882993')\n",
      "('min_samples_leaf:', 10, 'min_samples_spl:', 0.6, 'score', '0.883524')\n",
      "('min_samples_leaf:', 10, 'min_samples_spl:', 0.7, 'score', '0.883015')\n",
      "('min_samples_leaf:', 10, 'min_samples_spl:', 0.8, 'score', '0.883015')\n",
      "('min_samples_leaf:', 10, 'min_samples_spl:', 0.9, 'score', '0.883015')\n",
      "('min_samples_leaf:', 30, 'min_samples_spl:', 0.1, 'score', '0.885271')\n",
      "('min_samples_leaf:', 30, 'min_samples_spl:', 0.2, 'score', '0.883391')\n",
      "('min_samples_leaf:', 30, 'min_samples_spl:', 0.3, 'score', '0.883856')\n",
      "('min_samples_leaf:', 30, 'min_samples_spl:', 0.4, 'score', '0.883524')\n",
      "('min_samples_leaf:', 30, 'min_samples_spl:', 0.5, 'score', '0.883568')\n",
      "('min_samples_leaf:', 30, 'min_samples_spl:', 0.6, 'score', '0.883325')\n",
      "('min_samples_leaf:', 30, 'min_samples_spl:', 0.7, 'score', '0.883015')\n",
      "('min_samples_leaf:', 30, 'min_samples_spl:', 0.8, 'score', '0.883015')\n",
      "('min_samples_leaf:', 30, 'min_samples_spl:', 0.9, 'score', '0.883015')\n",
      "('min_samples_leaf:', 50, 'min_samples_spl:', 0.1, 'score', '0.884497')\n",
      "('min_samples_leaf:', 50, 'min_samples_spl:', 0.2, 'score', '0.883524')\n",
      "('min_samples_leaf:', 50, 'min_samples_spl:', 0.3, 'score', '0.884940')\n",
      "('min_samples_leaf:', 50, 'min_samples_spl:', 0.4, 'score', '0.883082')\n",
      "('min_samples_leaf:', 50, 'min_samples_spl:', 0.5, 'score', '0.883480')\n",
      "('min_samples_leaf:', 50, 'min_samples_spl:', 0.6, 'score', '0.883435')\n",
      "('min_samples_leaf:', 50, 'min_samples_spl:', 0.7, 'score', '0.883015')\n",
      "('min_samples_leaf:', 50, 'min_samples_spl:', 0.8, 'score', '0.883015')\n",
      "('min_samples_leaf:', 50, 'min_samples_spl:', 0.9, 'score', '0.883015')\n",
      "('best:', 'min_samples_leaf:', 10, 'min_samples_spl:', 0.1, 'score', 0.89007100042025167)\n"
     ]
    }
   ],
   "source": [
    "minleaf, minsplit, scores = [], [], []\n",
    "for i,j in itertools.product([1,10,30,50],[i/10.0 for i in range(1,10)]):\n",
    "    RFC=RandomForestClassifier(max_depth=11,max_leaf_nodes=500, min_samples_leaf=i,\n",
    "                           min_samples_split=j,min_weight_fraction_leaf=0.0,oob_score=True)\n",
    "    score = RFC.fit(X,y).oob_score_\n",
    "    minleaf.append(i); minsplit.append(j);scores.append(score)\n",
    "    print('min_samples_leaf:',i,'min_samples_spl:',j,'score',\"%.6f\"%score)\n",
    "index=np.argmax(scores)\n",
    "print('best:','min_samples_leaf:',minleaf[index],'min_samples_spl:',minsplit[index],'score',scores[index])"
   ]
  },
  {
   "cell_type": "markdown",
   "metadata": {},
   "source": [
    "After finish tuning min_samples_leaf and min_samples_split, there only one weight left to be tune"
   ]
  },
  {
   "cell_type": "code",
   "execution_count": 65,
   "metadata": {
    "collapsed": false
   },
   "outputs": [
    {
     "name": "stdout",
     "output_type": "stream",
     "text": [
      "('min_weight_fraction_leaf:', 0.1, 'score', 0.88301519541704454)\n",
      "('min_weight_fraction_leaf:', 0.2, 'score', 0.88301519541704454)\n",
      "('min_weight_fraction_leaf:', 0.3, 'score', 0.88301519541704454)\n",
      "('min_weight_fraction_leaf:', 0.4, 'score', 0.88301519541704454)\n",
      "('min_weight_fraction_leaf:', 0.5, 'score', 0.88301519541704454)\n",
      "('best:', 'min_weight_fraction_leaf:', 0.1, 'score', 0.88301519541704454)\n"
     ]
    }
   ],
   "source": [
    "weight, scores =  [], []\n",
    "for i in [i/10.0 for i in range(1,6)]:\n",
    "    RFC=RandomForestClassifier(max_depth=11,max_leaf_nodes=500, min_samples_leaf=10,\n",
    "                           min_samples_split=0.1,min_weight_fraction_leaf=i,oob_score=True)\n",
    "    score = RFC.fit(X,y).oob_score_\n",
    "    weight.append(i);scores.append(score)\n",
    "    print('min_weight_fraction_leaf:',i,'score',score)\n",
    "index=np.argmax(scores)\n",
    "print('best:','min_weight_fraction_leaf:',weight[index],'score',scores[index])"
   ]
  },
  {
   "cell_type": "markdown",
   "metadata": {},
   "source": [
    "Accordingly we have tuned all the parameters for random forest:\n",
    "1. max_depth=11\n",
    "2. max_leaf_nodes=500\n",
    "3. min_samples_leaf=10\n",
    "4. min_samples_split=0.1\n",
    "5. min_weight_fraction_leaf=0.1"
   ]
  },
  {
   "cell_type": "markdown",
   "metadata": {},
   "source": [
    "### Tune SVM\n",
    "#### Tune bandwidth and ridge penalty "
   ]
  },
  {
   "cell_type": "code",
   "execution_count": 5,
   "metadata": {
    "collapsed": false
   },
   "outputs": [],
   "source": [
    "from sklearn.model_selection import StratifiedShuffleSplit, GridSearchCVearchCV"
   ]
  },
  {
   "cell_type": "code",
   "execution_count": 32,
   "metadata": {
    "collapsed": false
   },
   "outputs": [
    {
     "data": {
      "text/plain": [
       "\"(The best parameters are {'C': 0.01, 'kernel': 'linear'}, with a score of 0.8935)\""
      ]
     },
     "execution_count": 32,
     "metadata": {},
     "output_type": "execute_result"
    }
   ],
   "source": [
    "C_range = np.logspace(-2, 10, 13)\n",
    "gamma_range = np.logspace(-9, 3, 13)\n",
    "param_grid = [\n",
    "  {'C': C_range, 'kernel': ['linear']},\n",
    "  {'C': C_range, 'gamma': gamma_range , 'kernel': ['rbf']},\n",
    " ]\n",
    "cv = StratifiedShuffleSplit(n_splits=5, test_size=0.2, random_state=42)\n",
    "\n",
    "grid = GridSearchCV(SVC(), param_grid=param_grid, cv=cv)\n",
    "grid.fit(X, y)\n",
    "print(\"The best parameters are %s with a score of %0.4f\" % (grid.best_params_, grid.best_score_))"
   ]
  },
  {
   "cell_type": "markdown",
   "metadata": {},
   "source": [
    "### Tune adaboost\n",
    "#### Tune n and ridge penalty \n",
    "Since the base estimator is decision tree classification, so I need to firstly tune decision trees. First of all, I tune max depth and max leaf nodes for decision trees"
   ]
  },
  {
   "cell_type": "code",
   "execution_count": 13,
   "metadata": {
    "collapsed": false
   },
   "outputs": [
    {
     "name": "stdout",
     "output_type": "stream",
     "text": [
      "('max_depth:', 2, 'max_leaf_nodes:', 10, 'score', 0.88765840505008842)\n",
      "('max_depth:', 2, 'max_leaf_nodes:', 50, 'score', 0.88765840505008842)\n",
      "('max_depth:', 2, 'max_leaf_nodes:', 100, 'score', 0.88765840505008842)\n",
      "('max_depth:', 2, 'max_leaf_nodes:', 200, 'score', 0.88765840505008842)\n",
      "('max_depth:', 2, 'max_leaf_nodes:', 500, 'score', 0.88765840505008842)\n",
      "('max_depth:', 4, 'max_leaf_nodes:', 10, 'score', 0.8851814194625629)\n",
      "('max_depth:', 4, 'max_leaf_nodes:', 50, 'score', 0.88675184157248366)\n",
      "('max_depth:', 4, 'max_leaf_nodes:', 100, 'score', 0.88679607957292605)\n",
      "('max_depth:', 4, 'max_leaf_nodes:', 200, 'score', 0.88679607957292605)\n",
      "('max_depth:', 4, 'max_leaf_nodes:', 500, 'score', 0.88675184157248366)\n",
      "('max_depth:', 6, 'max_leaf_nodes:', 10, 'score', 0.88272621043801069)\n",
      "('max_depth:', 6, 'max_leaf_nodes:', 50, 'score', 0.88248303596449629)\n",
      "('max_depth:', 6, 'max_leaf_nodes:', 100, 'score', 0.88193006340494695)\n",
      "('max_depth:', 6, 'max_leaf_nodes:', 200, 'score', 0.88177523040339856)\n",
      "('max_depth:', 6, 'max_leaf_nodes:', 500, 'score', 0.88170887340273507)\n",
      "('max_depth:', 8, 'max_leaf_nodes:', 10, 'score', 0.88272621043801069)\n",
      "('max_depth:', 8, 'max_leaf_nodes:', 50, 'score', 0.8655841882829568)\n",
      "('max_depth:', 8, 'max_leaf_nodes:', 100, 'score', 0.8696542604342401)\n",
      "('max_depth:', 8, 'max_leaf_nodes:', 200, 'score', 0.86447887667276624)\n",
      "('max_depth:', 8, 'max_leaf_nodes:', 500, 'score', 0.87003015869300315)\n",
      "('best:', 'max_depth:', 2, 'max_leaf_nodes:', 10, 'score', 0.88765840505008842)\n"
     ]
    }
   ],
   "source": [
    "maxd, maxleaf, scores = [], [], []\n",
    "for i,j in itertools.product(range(2,10,2),[10,50,100,200,500]):\n",
    "    DTC=DecisionTreeClassifier(max_depth=i,max_leaf_nodes=j, min_samples_leaf=1,\n",
    "                           min_samples_split=2,min_weight_fraction_leaf=0.0)\n",
    "    score = cross_val_score(DTC,X,y,cv=kfold).mean()\n",
    "    maxd.append(i); maxleaf.append(j);scores.append(score)\n",
    "    print('max_depth:',i,'max_leaf_nodes:',j,'score',score)\n",
    "index=np.argmax(scores)\n",
    "print('best:','max_depth:',maxd[index],'max_leaf_nodes:',maxleaf[index],'score',scores[index])"
   ]
  },
  {
   "cell_type": "markdown",
   "metadata": {},
   "source": [
    "so the best max_depth is 2 and best max_leaf_nodes in 10, then we can tune min_samples_leaf and min_samples_spl\n"
   ]
  },
  {
   "cell_type": "code",
   "execution_count": 21,
   "metadata": {
    "collapsed": false
   },
   "outputs": [
    {
     "name": "stdout",
     "output_type": "stream",
     "text": [
      "('min_samples_leaf:', 1, 'min_samples_spl:', 0.1, 'score', '0.879873')\n",
      "('min_samples_leaf:', 1, 'min_samples_spl:', 0.2, 'score', '0.881288')\n",
      "('min_samples_leaf:', 1, 'min_samples_spl:', 0.3, 'score', '0.881288')\n",
      "('min_samples_leaf:', 1, 'min_samples_spl:', 0.4, 'score', '0.881288')\n",
      "('min_samples_leaf:', 1, 'min_samples_spl:', 0.5, 'score', '0.881288')\n",
      "('min_samples_leaf:', 1, 'min_samples_spl:', 0.6, 'score', '0.881288')\n",
      "('min_samples_leaf:', 1, 'min_samples_spl:', 0.7, 'score', '0.881288')\n",
      "('min_samples_leaf:', 1, 'min_samples_spl:', 0.8, 'score', '0.881288')\n",
      "('min_samples_leaf:', 1, 'min_samples_spl:', 0.9, 'score', '0.883013')\n",
      "('min_samples_leaf:', 10, 'min_samples_spl:', 0.1, 'score', '0.879873')\n",
      "('min_samples_leaf:', 10, 'min_samples_spl:', 0.2, 'score', '0.881288')\n",
      "('min_samples_leaf:', 10, 'min_samples_spl:', 0.3, 'score', '0.881288')\n",
      "('min_samples_leaf:', 10, 'min_samples_spl:', 0.4, 'score', '0.881288')\n",
      "('min_samples_leaf:', 10, 'min_samples_spl:', 0.5, 'score', '0.881288')\n",
      "('min_samples_leaf:', 10, 'min_samples_spl:', 0.6, 'score', '0.881288')\n",
      "('min_samples_leaf:', 10, 'min_samples_spl:', 0.7, 'score', '0.881288')\n",
      "('min_samples_leaf:', 10, 'min_samples_spl:', 0.8, 'score', '0.881288')\n",
      "('min_samples_leaf:', 10, 'min_samples_spl:', 0.9, 'score', '0.883013')\n",
      "('min_samples_leaf:', 30, 'min_samples_spl:', 0.1, 'score', '0.879873')\n",
      "('min_samples_leaf:', 30, 'min_samples_spl:', 0.2, 'score', '0.881288')\n",
      "('min_samples_leaf:', 30, 'min_samples_spl:', 0.3, 'score', '0.881288')\n",
      "('min_samples_leaf:', 30, 'min_samples_spl:', 0.4, 'score', '0.881288')\n",
      "('min_samples_leaf:', 30, 'min_samples_spl:', 0.5, 'score', '0.881288')\n",
      "('min_samples_leaf:', 30, 'min_samples_spl:', 0.6, 'score', '0.881288')\n",
      "('min_samples_leaf:', 30, 'min_samples_spl:', 0.7, 'score', '0.881288')\n",
      "('min_samples_leaf:', 30, 'min_samples_spl:', 0.8, 'score', '0.881288')\n",
      "('min_samples_leaf:', 30, 'min_samples_spl:', 0.9, 'score', '0.883013')\n",
      "('min_samples_leaf:', 50, 'min_samples_spl:', 0.1, 'score', '0.879873')\n",
      "('min_samples_leaf:', 50, 'min_samples_spl:', 0.2, 'score', '0.881288')\n",
      "('min_samples_leaf:', 50, 'min_samples_spl:', 0.3, 'score', '0.881288')\n",
      "('min_samples_leaf:', 50, 'min_samples_spl:', 0.4, 'score', '0.881288')\n",
      "('min_samples_leaf:', 50, 'min_samples_spl:', 0.5, 'score', '0.881288')\n",
      "('min_samples_leaf:', 50, 'min_samples_spl:', 0.6, 'score', '0.881288')\n",
      "('min_samples_leaf:', 50, 'min_samples_spl:', 0.7, 'score', '0.881288')\n",
      "('min_samples_leaf:', 50, 'min_samples_spl:', 0.8, 'score', '0.881288')\n",
      "('min_samples_leaf:', 50, 'min_samples_spl:', 0.9, 'score', '0.883013')\n",
      "('best:', 'min_samples_leaf:', 1, 'min_samples_spl:', 0.9, 'score', 0.88301335140814974, 2)\n"
     ]
    }
   ],
   "source": [
    "minleaf, minsplit, scores = [], [], []\n",
    "for i,j in itertools.product([1,10,30,50],[i/10.0 for i in range(1,10)]):\n",
    "    DTC=DecisionTreeClassifier(max_depth=2,max_leaf_nodes=10, min_samples_leaf=i,\n",
    "                           min_samples_split=j,min_weight_fraction_leaf=0.0)\n",
    "    score = cross_val_score(DTC,X,y,cv=kfold).mean()\n",
    "    minleaf.append(i); minsplit.append(j);scores.append(score)\n",
    "    print('min_samples_leaf:',i,'min_samples_spl:',j,'score',\"%.6f\"%score)\n",
    "index=np.argmax(scores)\n",
    "print('best:','min_samples_leaf:',minleaf[index],'min_samples_spl:',minsplit[index],'score',scores[index],2)"
   ]
  },
  {
   "cell_type": "markdown",
   "metadata": {},
   "source": [
    "So we got that the best parameter for min_sample_leaf is 1, and min_sample_split is 0.9. Then we can train the adaboost parameter n_estimator and learning rate."
   ]
  },
  {
   "cell_type": "code",
   "execution_count": 28,
   "metadata": {
    "collapsed": false
   },
   "outputs": [
    {
     "name": "stdout",
     "output_type": "stream",
     "text": [
      "('n_estimate:', 10, 'learning_rate:', '0.000001', 'score', '0.883013')\n",
      "('n_estimate:', 10, 'learning_rate:', '0.000015', 'score', '0.883013')\n",
      "('n_estimate:', 10, 'learning_rate:', '0.000215', 'score', '0.883013')\n",
      "('n_estimate:', 10, 'learning_rate:', '0.003162', 'score', '0.883013')\n",
      "('n_estimate:', 10, 'learning_rate:', '0.046416', 'score', '0.883367')\n",
      "('n_estimate:', 10, 'learning_rate:', '0.681292', 'score', '0.881133')\n",
      "('n_estimate:', 10, 'learning_rate:', '10.000000', 'score', '0.116987')\n",
      "('n_estimate:', 50, 'learning_rate:', '0.000001', 'score', '0.883013')\n",
      "('n_estimate:', 50, 'learning_rate:', '0.000015', 'score', '0.883013')\n",
      "('n_estimate:', 50, 'learning_rate:', '0.000215', 'score', '0.883013')\n",
      "('n_estimate:', 50, 'learning_rate:', '0.003162', 'score', '0.883411')\n",
      "('n_estimate:', 50, 'learning_rate:', '0.046416', 'score', '0.883434')\n",
      "('n_estimate:', 50, 'learning_rate:', '0.681292', 'score', '0.877882')\n",
      "('n_estimate:', 50, 'learning_rate:', '10.000000', 'score', '0.116987')\n",
      "('n_estimate:', 100, 'learning_rate:', '0.000001', 'score', '0.883013')\n",
      "('n_estimate:', 100, 'learning_rate:', '0.000015', 'score', '0.883013')\n",
      "('n_estimate:', 100, 'learning_rate:', '0.000215', 'score', '0.883013')\n",
      "('n_estimate:', 100, 'learning_rate:', '0.003162', 'score', '0.883456')\n",
      "('n_estimate:', 100, 'learning_rate:', '0.046416', 'score', '0.884827')\n",
      "('n_estimate:', 100, 'learning_rate:', '0.681292', 'score', '0.875382')\n",
      "('n_estimate:', 100, 'learning_rate:', '10.000000', 'score', '0.116987')\n",
      "('n_estimate:', 1000, 'learning_rate:', '0.000001', 'score', '0.883013')\n",
      "('n_estimate:', 1000, 'learning_rate:', '0.000015', 'score', '0.883013')\n",
      "('n_estimate:', 1000, 'learning_rate:', '0.000215', 'score', '0.883478')\n",
      "('n_estimate:', 1000, 'learning_rate:', '0.003162', 'score', '0.883588')\n",
      "('n_estimate:', 1000, 'learning_rate:', '0.046416', 'score', '0.878656')\n",
      "('n_estimate:', 1000, 'learning_rate:', '0.681292', 'score', '0.867530')\n",
      "('n_estimate:', 1000, 'learning_rate:', '10.000000', 'score', '0.116987')\n",
      "('best:', 'n_estimate:', 30, 'learning_rate:', 0.1, 'score', 0.88482710942628717, 2)\n"
     ]
    }
   ],
   "source": [
    "DTC=DecisionTreeClassifier(max_depth=2,max_leaf_nodes=10, min_samples_leaf=1,\n",
    "                           min_samples_split=0.9,min_weight_fraction_leaf=0.0)\n",
    "nesti, lrate, scores = [], [], []\n",
    "for i,j in itertools.product([10,50,100,1000],np.logspace(-6,1,7)):\n",
    "    ABC = AdaBoostClassifier(base_estimator = DTC,n_estimators=i,learning_rate=j)\n",
    "    score = cross_val_score(ABC,X,y,cv=kfold).mean()\n",
    "    nesti.append(i); lrate.append(j);scores.append(score)\n",
    "    print('n_estimate:',i,'learning_rate:',\"%.6f\"%j,'score',\"%.6f\"%score)\n",
    "index=np.argmax(scores)\n",
    "print('best:','n_estimate:',minleaf[index],'learning_rate:',minsplit[index],'score',scores[index],2)"
   ]
  },
  {
   "cell_type": "markdown",
   "metadata": {},
   "source": [
    "so we can find that the best number of estimate is 30, and learning rate is 0.1.\n",
    "### Analysis tuned model with ROC PRC curve"
   ]
  },
  {
   "cell_type": "code",
   "execution_count": 33,
   "metadata": {
    "collapsed": false
   },
   "outputs": [],
   "source": [
    "X_train, X_test, y_train, y_test = train_test_split(X, y, test_size=.3, random_state=0)\n",
    "RFC=RandomForestClassifier(max_depth=11,max_leaf_nodes=500, min_samples_leaf=10,\n",
    "                           min_weight_fraction_leaf=0.1,oob_score=True)\n",
    "RFC.fit(X_train,y_train)\n",
    "prob = RFC.predict_proba(X_test)\n",
    "rcffpr, rcftpr, rcfthr = roc_curve(y_test, prob[:,1])\n",
    "rcfpre, rcfrec, rcfthresh = precision_recall_curve(y_test, prob[:,1])\n",
    "\n",
    "svc = SVC(probability=True, C=0.01,kernel='linear')\n",
    "svc.fit(X_train,y_train)\n",
    "pred = svc.predict_proba(X_test)\n",
    "svcfpr, svctpr, svcthr = roc_curve(y_test, pred[:,1])\n",
    "svcpre, svcrec, svcthresh = precision_recall_curve(y_test, pred[:,1])\n",
    "\n",
    "DTC=DecisionTreeClassifier(max_depth=2,max_leaf_nodes=10, min_samples_leaf=1,\n",
    "                           min_samples_split=0.9,min_weight_fraction_leaf=0.0)\n",
    "ABC = AdaBoostClassifier(base_estimator = DTC,n_estimators=30,learning_rate=0.1)\n",
    "ABC.fit(X_train,y_train)\n",
    "pred = ABC.predict_proba(X_test)\n",
    "abcfpr, abctpr, abcthr = roc_curve(y_test, pred[:,1])\n",
    "abcpre, abcrec, abcthresh = precision_recall_curve(y_test, pred[:,1])"
   ]
  },
  {
   "cell_type": "code",
   "execution_count": 33,
   "metadata": {
    "collapsed": false
   },
   "outputs": [
    {
     "data": {
      "image/png": "[encoded data removed]",
      "text/plain": [
       "<matplotlib.figure.Figure at 0x1b194630>"
      ]
     },
     "metadata": {},
     "output_type": "display_data"
    }
   ],
   "source": [
    "plt.figure()\n",
    "lw = 2\n",
    "plt.plot(rcffpr,rcftpr,lw=lw, label='Random Forest')\n",
    "plt.plot(abcfpr,abctpr,lw=lw, label='Adaboost')\n",
    "plt.plot(svcfpr,svctpr,lw=lw, label='Linear SVM')\n",
    "plt.plot([0, 1], [0, 1], color='navy', lw=lw, linestyle='--')\n",
    "plt.xlim([0.0, 1.0])\n",
    "plt.ylim([0.0, 1.05])\n",
    "plt.xlabel('False Positive Rate')\n",
    "plt.ylabel('True Positive Rate')\n",
    "plt.title('Receiver operating characteristic for three methods')\n",
    "plt.legend(loc=\"lower right\")\n",
    "plt.show()"
   ]
  },
  {
   "cell_type": "code",
   "execution_count": 34,
   "metadata": {
    "collapsed": false
   },
   "outputs": [
    {
     "data": {
      "image/png": "[encoded data removed]",
      "text/plain": [
       "<matplotlib.figure.Figure at 0xd2aeeb8>"
      ]
     },
     "metadata": {},
     "output_type": "display_data"
    }
   ],
   "source": [
    "plt.figure()\n",
    "lw = 2\n",
    "plt.plot(rcfrec,rcfpre,lw=lw, label='Random Forest')\n",
    "plt.plot(abcrec,abcpre,lw=lw, label='Adaboost')\n",
    "plt.plot(svcrec,svcpre,lw=lw, label='Linear SVM')\n",
    "plt.xlim([0.0, 1.0])\n",
    "plt.ylim([0.0, 1.05])\n",
    "plt.xlabel('Recall')\n",
    "plt.ylabel('Precision')\n",
    "plt.title('Precision Recall curve for three methods')\n",
    "plt.legend(loc=1)\n",
    "plt.show()"
   ]
  },
  {
   "cell_type": "markdown",
   "metadata": {},
   "source": [
    "### Analysis tuned model with confusion matrix"
   ]
  },
  {
   "cell_type": "code",
   "execution_count": 24,
   "metadata": {
    "collapsed": true
   },
   "outputs": [],
   "source": [
    "svcpred = svc.predict(X_test)\n",
    "rfcpred = RFC.predict(X_test)\n",
    "abcpred = ABC.predict(X_test)"
   ]
  },
  {
   "cell_type": "code",
   "execution_count": 25,
   "metadata": {
    "collapsed": true
   },
   "outputs": [],
   "source": [
    "def plot_confusion_matrix(cm, classes, model, title='Confusion matrix (Normalized)',\n",
    "                          cmap=plt.cm.Blues):\n",
    "    plt.imshow(cm, interpolation='nearest', cmap=plt.cm.Blues)\n",
    "    plt.title('confusion matrix of {}'.format(model))\n",
    "    plt.colorbar()\n",
    "    plt.xticks(np.arange(2), classes)\n",
    "    plt.yticks(np.arange(2), classes)\n",
    "    plt.tight_layout()\n",
    "    plt.xlabel('True label',rotation='horizontal', ha='right')\n",
    "    plt.ylabel('Predicted label')\n",
    "    plt.show()"
   ]
  },
  {
   "cell_type": "code",
   "execution_count": 26,
   "metadata": {
    "collapsed": false
   },
   "outputs": [
    {
     "data": {
      "image/png": "[encoded data removed]",
      "text/plain": [
       "<matplotlib.figure.Figure at 0x206745f8>"
      ]
     },
     "metadata": {},
     "output_type": "display_data"
    },
    {
     "name": "stdout",
     "output_type": "stream",
     "text": [
      "True          NO   YES\n",
      "Predicted             \n",
      "NO         11730  1198\n",
      "YES          239   397\n",
      "('precision:', 0.89405780005897961)\n"
     ]
    },
    {
     "data": {
      "image/png": "[encoded data removed]",
      "text/plain": [
       "<matplotlib.figure.Figure at 0x178b7908>"
      ]
     },
     "metadata": {},
     "output_type": "display_data"
    },
    {
     "name": "stdout",
     "output_type": "stream",
     "text": [
      "True          NO   YES\n",
      "Predicted             \n",
      "NO         11670  1037\n",
      "YES          299   558\n",
      "('precision:', 0.90150398112651131)\n"
     ]
    },
    {
     "data": {
      "image/png": "[encoded data removed]",
      "text/plain": [
       "<matplotlib.figure.Figure at 0x136c5320>"
      ]
     },
     "metadata": {},
     "output_type": "display_data"
    },
    {
     "name": "stdout",
     "output_type": "stream",
     "text": [
      "True          NO   YES\n",
      "Predicted             \n",
      "NO         11573  1006\n",
      "YES          396   589\n",
      "('precision:', 0.89663815983485695)\n"
     ]
    }
   ],
   "source": [
    "for i,j in zip(['svc','random forest','adaboost'],[svcpred,rfcpred,abcpred]):\n",
    "    cm = confusion_matrix(y_test, j)\n",
    "    cm_normalized = cm.astype('float') / cm.sum(axis=1)[:, np.newaxis]\n",
    "    plot_confusion_matrix(cm_normalized.T, ['NO','YES'], i)\n",
    "    cm_df = pd.DataFrame(cm.T, index=['NO','YES'], columns=['NO','YES'])\n",
    "    cm_df.index.name = 'Predicted'\n",
    "    cm_df.columns.name = 'True'\n",
    "    print(cm_df)\n",
    "    print('precision:',sum(y_test==j)/float(len(y_test)))"
   ]
  },
  {
   "cell_type": "markdown",
   "metadata": {},
   "source": [
    "__Exercise 2.2__ (Bonus: 20 pts) Using theano, code online stochastic gradient method for logistic regression with a single hidden layer with three units that uses the sigmoid activation function.  Compare the test error to the previous methods.\n",
    "\n",
    "You can use the code here: http://deeplearning.net/tutorial/mlp.html\n",
    "\n",
    "You may want to use the onehotencoder to encode the categorical variables in X."
   ]
  },
  {
   "cell_type": "markdown",
   "metadata": {},
   "source": [
    "I firstly do the stochastic gradient method for logistic regression with a single hidden layer with three units that uses the sigmoid activation function by using the code provided by professor, this method perform worst when compared with previous methods, the accuracy is 88.24% which means all value are predicted as class 0. Then I do a little bit change the activation function to binary crossentropy, the accuracy increase a little bit which is 89.82%, this answer perform better adaboost and svm, but the accuracy will not increase when I increase iteration."
   ]
  },
  {
   "cell_type": "code",
   "execution_count": 7,
   "metadata": {
    "collapsed": false
   },
   "outputs": [],
   "source": [
    "import theano\n",
    "from theano import *\n",
    "import theano.tensor as T\n",
    "from sklearn.preprocessing import scale"
   ]
  },
  {
   "cell_type": "code",
   "execution_count": 8,
   "metadata": {
    "collapsed": false
   },
   "outputs": [],
   "source": [
    "from sklearn.model_selection import train_test_split\n",
    "X_train, X_test, y_train, y_test = train_test_split(X, y, test_size=.3, random_state=0)\n",
    "X_train=scale(X_train)\n",
    "X_test=scale(X_test)\n",
    "y_train = y_train.values"
   ]
  },
  {
   "cell_type": "code",
   "execution_count": 77,
   "metadata": {
    "collapsed": false
   },
   "outputs": [],
   "source": [
    "p = 42\n",
    "H = 3\n",
    "x = T.vector('x')\n",
    "W1 = theano.shared(value = np.random.randn(p*H).reshape((H,p)), name= 'W1')\n",
    "w2 = theano.shared(value = np.random.randn(H), name= 'w2')\n",
    "u1 = T.dot(W1,x)\n",
    "h = T.nnet.relu(u1)\n",
    "u2 = T.dot(h,w2)\n",
    "y = T.scalar('y')\n",
    "prob = T.nnet.sigmoid(u2)\n",
    "R = - y * T.log(prob) - (1 - y) * T.log(1 - prob)\n",
    "w2g = T.grad(R,w2)\n",
    "W1g = T.grad(R,W1)\n",
    "learn_rate = .05\n",
    "W_updates = [(W1, W1 - learn_rate * W1g),\n",
    "            (w2, w2 - learn_rate * w2g)]\n",
    "grad_step = theano.function([x,y],R,updates=W_updates)"
   ]
  },
  {
   "cell_type": "code",
   "execution_count": 117,
   "metadata": {
    "collapsed": false
   },
   "outputs": [],
   "source": [
    "for num in range(10):\n",
    "    n = X_train.shape[0]\n",
    "    for i in range(n):\n",
    "        grad_step(X_train[i,:],y_train[i])"
   ]
  },
  {
   "cell_type": "code",
   "execution_count": 79,
   "metadata": {
    "collapsed": false
   },
   "outputs": [
    {
     "data": {
      "text/plain": [
       "((3L, 42L), array([-0.13664027, -0.57789964, -0.51915949]))"
      ]
     },
     "execution_count": 79,
     "metadata": {},
     "output_type": "execute_result"
    }
   ],
   "source": [
    "W1.get_value().shape,w2.get_value()"
   ]
  },
  {
   "cell_type": "code",
   "execution_count": 118,
   "metadata": {
    "collapsed": false
   },
   "outputs": [
    {
     "name": "stdout",
     "output_type": "stream",
     "text": [
      "precision: 0.882409318785\n"
     ]
    }
   ],
   "source": [
    "ypred = np.array([prob.eval({x: X}) > .5 for X in X_test ])\n",
    "print('precision:',sum(y_test==ypred)/float(len(y_test)))"
   ]
  },
  {
   "cell_type": "markdown",
   "metadata": {},
   "source": [
    "#### method 2"
   ]
  },
  {
   "cell_type": "code",
   "execution_count": 46,
   "metadata": {
    "collapsed": false
   },
   "outputs": [],
   "source": [
    "def encode_labels(labels, max_index):\n",
    "    \"\"\"Encode the labels into binary vectors.\"\"\"\n",
    "    # Allocate the output labels, all zeros.\n",
    "    encoded = np.zeros((labels.shape[0], max_index + 1))\n",
    "    \n",
    "    # Fill in the ones at the right indices.\n",
    "    for i in xrange(labels.shape[0]):\n",
    "        encoded[i, labels[i]] = 1\n",
    "    return encoded\n",
    "\n",
    "labeled = encode_labels(y_train, 1)"
   ]
  },
  {
   "cell_type": "code",
   "execution_count": 50,
   "metadata": {
    "collapsed": false
   },
   "outputs": [
    {
     "name": "stdout",
     "output_type": "stream",
     "text": [
      "Epoch 10 with cost 0.243507087549 and alpha 10.0\n",
      "Epoch 20 with cost 0.22387918907 and alpha 10.0\n",
      "Epoch 30 with cost 0.220995024936 and alpha 10.0\n",
      "Epoch 40 with cost 0.219710703211 and alpha 10.0\n",
      "Epoch 50 with cost 0.21944040915 and alpha 0.173415299158\n"
     ]
    }
   ],
   "source": [
    "\n",
    "W1_shape = (3, 42)\n",
    "b1_shape = 3\n",
    "W2_shape = (2, 3)\n",
    "b2_shape = 2\n",
    "W1 = shared(np.random.random(W1_shape) - 0.5, name=\"W1\")\n",
    "b1 = shared(np.random.random(b1_shape) - 0.5, name=\"b1\")\n",
    "W2 = shared(np.random.random(W2_shape) - 0.5, name=\"W2\")\n",
    "b2 = shared(np.random.random(b2_shape) - 0.5, name=\"b2\")\n",
    "x = T.dmatrix(\"x\") # N x 784\n",
    "labels = T.dmatrix(\"labels\") # N x 10\n",
    "\n",
    "hidden = T.nnet.sigmoid(x.dot(W1.transpose()) + b1)\n",
    "output = T.nnet.softmax(hidden.dot(W2.transpose()) + b2)\n",
    "prediction = T.argmax(output, axis=1)\n",
    "reg_lambda = 0.0001\n",
    "regularization = reg_lambda * ((W1 * W1).sum() + (W2 * W2).sum() + (b1 * b1).sum() + (b2 * b2).sum())\n",
    "cost = T.nnet.binary_crossentropy(output, labels).mean() + regularization\n",
    "#sigmoid\n",
    "compute_prediction = function([x], prediction)\n",
    "\n",
    "alpha = T.dscalar(\"alpha\")\n",
    "weights = [W1, W2, b1, b2]\n",
    "updates = [(w, w - alpha * grad(cost, w)) for w in weights]\n",
    "train_nn = function([x, labels, alpha],\n",
    "                 cost,\n",
    "                 updates=updates)\n",
    "alpha = 10.0\n",
    "costs = []\n",
    "while True:\n",
    "    costs.append(float(train_nn(X_train, labeled, alpha)))\n",
    "\n",
    "    if len(costs) % 10 == 0:\n",
    "        print 'Epoch', len(costs), 'with cost', costs[-1], 'and alpha', alpha\n",
    "    if len(costs) > 2 and costs[-2] - costs[-1] < 0.0001:\n",
    "        if alpha < 0.2:\n",
    "            break\n",
    "        else:\n",
    "            alpha = alpha / 1.5\n"
   ]
  },
  {
   "cell_type": "code",
   "execution_count": 51,
   "metadata": {
    "collapsed": false
   },
   "outputs": [
    {
     "name": "stdout",
     "output_type": "stream",
     "text": [
      "('precision:', 0.89826010026540848)\n"
     ]
    }
   ],
   "source": [
    "prediction = compute_prediction(X_test)\n",
    "print('precision:',sum(y_test==prediction)/float(len(y_test)))"
   ]
  }
 ],
 "metadata": {
  "anaconda-cloud": {},
  "kernelspec": {
   "display_name": "Python [default]",
   "language": "python",
   "name": "python2"
  },
  "language_info": {
   "codemirror_mode": {
    "name": "ipython",
    "version": 2
   },
   "file_extension": ".py",
   "mimetype": "text/x-python",
   "name": "python",
   "nbconvert_exporter": "python",
   "pygments_lexer": "ipython2",
   "version": "2.7.12"
  }
 },
 "nbformat": 4,
 "nbformat_minor": 2
}
